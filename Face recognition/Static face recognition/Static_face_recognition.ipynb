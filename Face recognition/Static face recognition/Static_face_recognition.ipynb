{
  "nbformat": 4,
  "nbformat_minor": 0,
  "metadata": {
    "colab": {
      "name": "Static face recognition.ipynb",
      "provenance": []
    },
    "kernelspec": {
      "name": "python3",
      "display_name": "Python 3"
    }
  },
  "cells": [
    {
      "cell_type": "code",
      "metadata": {
        "id": "82re_AXtaioK"
      },
      "source": [
        "import face_recognition as fr\r\n",
        "import os\r\n",
        "import cv2\r\n",
        "import face_recognition\r\n",
        "import numpy as np\r\n",
        "from time import sleep\r\n",
        "from google.colab.patches import cv2_imshow\r\n",
        "from sklearn.ensemble import RandomForestRegressor as rfr\r\n",
        "from sklearn import preprocessing as pr"
      ],
      "execution_count": null,
      "outputs": []
    },
    {
      "cell_type": "code",
      "metadata": {
        "id": "jxJvQ531awAU"
      },
      "source": [
        "def get_encoded_faces():\r\n",
        "    \"\"\"\r\n",
        "    looks through the faces folder and encodes all\r\n",
        "    the faces\r\n",
        " \r\n",
        "    :return: dict of (name, image encoded)\r\n",
        "    \"\"\"\r\n",
        "    encoded = {}\r\n",
        " \r\n",
        "    for dirpath, dnames, fnames in os.walk(\"./faces\"):\r\n",
        "        for f in fnames:\r\n",
        "            if f.endswith(\".jpg\") or f.endswith(\".png\"):\r\n",
        "                face = fr.load_image_file(\"faces/\" + f)\r\n",
        "                encoding = fr.face_encodings(face)[0]\r\n",
        "                encoded[f.split(\".\")[0]] = encoding\r\n",
        "    return encoded"
      ],
      "execution_count": null,
      "outputs": []
    },
    {
      "cell_type": "code",
      "metadata": {
        "id": "dyhfTvn4az6k"
      },
      "source": [
        "def unknown_image_encoded(img):\r\n",
        "    \"\"\"\r\n",
        "    encode a face given the file name\r\n",
        "    \"\"\"\r\n",
        "    face = fr.load_image_file(\"faces/\" + img)\r\n",
        "    encoding = fr.face_encodings(face)[0]\r\n",
        " \r\n",
        "    return encoding"
      ],
      "execution_count": null,
      "outputs": []
    },
    {
      "cell_type": "code",
      "metadata": {
        "id": "veYtOSwYa36X"
      },
      "source": [
        "def classify_face(im):\r\n",
        "    \"\"\"\r\n",
        "    will find all of the faces in a given image and label\r\n",
        "    them if it knows what they are\r\n",
        " \r\n",
        "    :param im: str of file path\r\n",
        "    :return: list of face names\r\n",
        "    \"\"\"\r\n",
        "    faces = get_encoded_faces()\r\n",
        "    faces_encoded = list(faces.values())\r\n",
        "    known_face_names = list(faces.keys())\r\n",
        " \r\n",
        "    img = cv2.imread(im, 1)\r\n",
        "    #imgt = cv2.resize(imge, (244, 244))\r\n",
        "    #img = imgt[:,:,::-1]\r\n",
        " \r\n",
        "    face_locations = face_recognition.face_locations(img)\r\n",
        "    unknown_face_encodings = face_recognition.face_encodings(img, face_locations)\r\n",
        " \r\n",
        "    face_names = []\r\n",
        "    for face_encoding in unknown_face_encodings:\r\n",
        "        # See if the face is a match for the known face(s)\r\n",
        "        matches = face_recognition.compare_faces(faces_encoded, face_encoding, tolerance=0.6)\r\n",
        "        name = \"Unknown\"\r\n",
        " \r\n",
        "        # use the known face with the smallest distance to the new face\r\n",
        "        face_distances = face_recognition.face_distance(faces_encoded, face_encoding)\r\n",
        "        best_match_index = np.argmin(face_distances)\r\n",
        "        if matches[best_match_index]:\r\n",
        "            name = known_face_names[best_match_index]\r\n",
        "            acc = np.array(face_encoding/faces_encoded[best_match_index] )*100\r\n",
        "            accuracy = round(np.mean(acc),2)\r\n",
        "            acc_text =\"-\" #\"{}%\".format(accuracy)\r\n",
        "        face_names.append(name)\r\n",
        "\r\n",
        "        \r\n",
        " \r\n",
        "        for (top, right, bottom, left), name in zip(face_locations, face_names):\r\n",
        "            # Draw a box around the face\r\n",
        "            if name==\"Unknown\":\r\n",
        "              cv2.rectangle(img, (left-20, top-20), (right+20, bottom+20), (0, 0, 255), 2)\r\n",
        "            else:\r\n",
        "              cv2.rectangle(img, (left-20, top-20), (right+20, bottom+20), (255, 0, 0), 2)\r\n",
        " \r\n",
        "            # Draw a label with a name below the face\r\n",
        "            if name==\"Unknown\":\r\n",
        "              cv2.rectangle(img, (left-20, bottom -15), (right+20, bottom+20), (0, 0, 255), cv2.FILLED)\r\n",
        "            else:\r\n",
        "              cv2.rectangle(img, (left-20, bottom -15), (right+20, bottom+20), (255, 0, 0), cv2.FILLED)\r\n",
        "            font = cv2.FONT_HERSHEY_DUPLEX\r\n",
        "            cv2.putText(img, name, (left -20, bottom + 15), font, 1.0, (255, 255, 255), 2)\r\n",
        "            if name==\"Unknown\":\r\n",
        "              continue\r\n",
        "            else:\r\n",
        "              cv2.putText(img, acc_text, (left -40,bottom + 40), font,1.0, (255,255,255),2)\r\n",
        "    \r\n",
        "    # Display the resulting image\r\n",
        "    while True:\r\n",
        "\r\n",
        "        cv2_imshow(img)\r\n",
        "        if cv2.waitKey(1) & 0xFF == ord('q'):\r\n",
        "            return face_names \r\n",
        "        break\r\n"
      ],
      "execution_count": null,
      "outputs": []
    },
    {
      "cell_type": "code",
      "metadata": {
        "id": "pFpFzsl4a9Gj"
      },
      "source": [
        "print(classify_face(\"test1.jpg\"))"
      ],
      "execution_count": null,
      "outputs": []
    }
  ]
}